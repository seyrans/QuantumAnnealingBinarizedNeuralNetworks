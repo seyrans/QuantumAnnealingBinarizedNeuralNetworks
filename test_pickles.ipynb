{
 "cells": [
  {
   "cell_type": "code",
   "execution_count": 1,
   "id": "6cc0910c",
   "metadata": {
    "execution": {
     "iopub.execute_input": "2022-06-10T02:17:49.143059Z",
     "iopub.status.busy": "2022-06-10T02:17:49.142712Z",
     "iopub.status.idle": "2022-06-10T02:17:49.603911Z",
     "shell.execute_reply": "2022-06-10T02:17:49.602219Z",
     "shell.execute_reply.started": "2022-06-10T02:17:49.142958Z"
    }
   },
   "outputs": [],
   "source": [
    "import qubovert as qv\n",
    "from qubovert import boolean_var\n",
    "import pickle\n",
    "\n",
    "def make_h_new(h_pickled):\n",
    "    h_new = qv.PCBO()\n",
    "    objective_lambda = 0.1\n",
    "\n",
    "    def build_term_from_constraint(constraint):\n",
    "        term = qv.PUBO()\n",
    "        for pair_bools, coefficient in constraint.items():\n",
    "            if len(pair_bools) == 0:\n",
    "                term += coefficient\n",
    "            elif len(pair_bools) == 1:\n",
    "                term += boolean_var(pair_bools[0]) * coefficient\n",
    "            else:\n",
    "                term += boolean_var(pair_bools[0]) * boolean_var(pair_bools[1]) * coefficient\n",
    "        return term\n",
    "\n",
    "    # ----- Add less than constraints and objective -----\n",
    "    for constraint in h_pickled['constraints']['lt']:\n",
    "        left_term = build_term_from_constraint(constraint)\n",
    "        h_new.add_constraint_lt_zero(left_term)\n",
    "    #     ---- In this problem, the objective is the same as 0.1 * h['constraints']['lt']\n",
    "        h_new += objective_lambda * left_term\n",
    "\n",
    "    # ----- Add equal zero constraints -----\n",
    "    for constraint in h_pickled['constraints']['eq']:\n",
    "        left_term = build_term_from_constraint(constraint)\n",
    "        h_new.add_constraint_eq_zero(left_term)\n",
    "    assert h_new.to_qubo().Q == h_pickled['qubo']\n",
    "    return h_new\n",
    "\n",
    "with open('pickles/302-5780-7-31-sum_taus-2-7-232034-H.pickle', 'rb') as f:\n",
    "    h_pickled = pickle.load(f)\n",
    "h_new = make_h_new(h_pickled)"
   ]
  },
  {
   "cell_type": "code",
   "execution_count": 2,
   "id": "2c078c0a",
   "metadata": {
    "execution": {
     "iopub.execute_input": "2022-06-10T02:17:50.728079Z",
     "iopub.status.busy": "2022-06-10T02:17:50.727800Z",
     "iopub.status.idle": "2022-06-10T02:18:01.331257Z",
     "shell.execute_reply": "2022-06-10T02:18:01.330770Z",
     "shell.execute_reply.started": "2022-06-10T02:17:50.728048Z"
    }
   },
   "outputs": [
    {
     "name": "stdout",
     "output_type": "stream",
     "text": [
      "sampling_time 9.73518681526184\n",
      "Constraints satisfied? True\n",
      "h_new.value -0.09999999999990905\n"
     ]
    }
   ],
   "source": [
    "from neal import SimulatedAnnealingSampler\n",
    "from dimod import BinaryQuadraticModel, Vartype\n",
    "from functools import partial\n",
    "import time\n",
    "import wandb\n",
    "\n",
    "NUM_READS = 1000\n",
    "\n",
    "def time_execution(func, label='sampling_time'):\n",
    "    execution_start = time.time()\n",
    "    res = func()\n",
    "    print(label, time.time() - execution_start)\n",
    "    return res\n",
    "\n",
    "def solve_using_s_annealing(h_new):\n",
    "    qv_qubo = h_new.to_qubo()\n",
    "    dwave_qubo = qv_qubo.Q\n",
    "    sim_sampler = SimulatedAnnealingSampler()\n",
    "    res = time_execution(partial(sim_sampler.sample_qubo, dwave_qubo, num_reads=NUM_READS))\n",
    "#     print('solution energy', res.first.energy)\n",
    "    qubo_solution = res.first.sample\n",
    "    H_solution = h_new.convert_solution(qubo_solution)\n",
    "    print(\"Constraints satisfied?\", h_new.is_solution_valid(H_solution))\n",
    "    print('h_new.value', h_new.value(H_solution))\n",
    "    return H_solution\n",
    "\n",
    "\n",
    "H_solution = solve_using_s_annealing(h_new)"
   ]
  },
  {
   "cell_type": "code",
   "execution_count": 6,
   "id": "cc7c176e",
   "metadata": {
    "execution": {
     "iopub.execute_input": "2022-06-10T02:19:38.895533Z",
     "iopub.status.busy": "2022-06-10T02:19:38.895253Z",
     "iopub.status.idle": "2022-06-10T02:19:38.923632Z",
     "shell.execute_reply": "2022-06-10T02:19:38.922916Z",
     "shell.execute_reply.started": "2022-06-10T02:19:38.895503Z"
    }
   },
   "outputs": [
    {
     "name": "stdout",
     "output_type": "stream",
     "text": [
      "Constraints satisfied? True\n",
      "h_new.value -0.09999999999990905\n"
     ]
    }
   ],
   "source": [
    "def constarints_penalty(solution):\n",
    "    print(\"Constraints satisfied?\", h_new.is_solution_valid(solution))\n",
    "    print('h_new.value', h_new.value(solution))\n",
    "    lt_val = h_new.constraints['lt'][0].value(solution)\n",
    "    if lt_val >= 0:\n",
    "        print('lt value', lt_val)\n",
    "\n",
    "    for constraint in h_new.constraints['eq']:\n",
    "        val_ = constraint.value(solution)\n",
    "        if val_ != 0:\n",
    "            print('eq value', val_, 'constraint', constraint)\n",
    "\n",
    "constarints_penalty(H_solution)"
   ]
  },
  {
   "cell_type": "markdown",
   "id": "52280d78",
   "metadata": {},
   "source": [
    "## Fujitsu Solution"
   ]
  },
  {
   "cell_type": "code",
   "execution_count": 120,
   "id": "cf22b2dd",
   "metadata": {
    "execution": {
     "iopub.execute_input": "2022-06-10T00:46:29.231499Z",
     "iopub.status.busy": "2022-06-10T00:46:29.231201Z",
     "iopub.status.idle": "2022-06-10T00:47:03.980118Z",
     "shell.execute_reply": "2022-06-10T00:47:03.979525Z",
     "shell.execute_reply.started": "2022-06-10T00:46:29.231469Z"
    }
   },
   "outputs": [
    {
     "name": "stdout",
     "output_type": "stream",
     "text": [
      "9157-100677-7-31-sum_taus-32-15-237864-H_solution.pickle\n",
      "Constraints satisfied? False\n",
      "h_new.value 199.0\n",
      "-----------------------\n",
      "2317-29547-7-31-sum_taus-8-15-812112-H_solution.pickle\n",
      "Constraints satisfied? False\n",
      "h_new.value 19.900000000000546\n",
      "-----------------------\n",
      "607-11792-7-31-sum_taus-2-15-960004-H_solution.pickle\n",
      "Constraints satisfied? True\n",
      "h_new.value -0.3999999999996362\n",
      "-----------------------\n",
      "1177-17686-7-31-sum_taus-4-15-988191-H_solution.pickle\n",
      "Constraints satisfied? False\n",
      "h_new.value 28.699999999999818\n",
      "-----------------------\n",
      "34696-657777-7-31-sum_taus-32-31-10075-H_solution.pickle\n",
      "Constraints satisfied? False\n",
      "h_new.value 1243.7999999999993\n",
      "-----------------------\n",
      "50-322-4-7-sum_taus-2-3-113261-H_solution.pickle\n",
      "Constraints satisfied? False\n",
      "h_new.value 0.2999999999999545\n",
      "-----------------------\n",
      "302-5780-7-31-sum_taus-2-7-232034-H_solution.pickle\n",
      "Constraints satisfied? True\n",
      "h_new.value -0.5\n",
      "-----------------------\n"
     ]
    }
   ],
   "source": [
    "import glob\n",
    "for solution_path in glob.glob(dir_path + \"/*.pickle\"):\n",
    "    file_name = Path(solution_path).name\n",
    "    print(file_name)\n",
    "    \n",
    "    h_path = \"pickles/\" + file_name.replace('_solution', '')\n",
    "    with open(h_path, 'rb') as f:\n",
    "        h_dict = pickle.load(f)\n",
    "    h_new = make_h_new(h_dict)\n",
    "    dir_path = \"Fujitsu-UCSB-master/results\"\n",
    "    with open(solution_path, 'rb') as f:\n",
    "        fujitsu_solution = pickle.load(f)\n",
    "    \n",
    "    fujitsu_h_solution = h_new.convert_solution(fujitsu_solution)\n",
    "    print(\"Constraints satisfied?\", h_new.is_solution_valid(fujitsu_h_solution))\n",
    "    print('h_new.value', h_new.value(fujitsu_h_solution))\n",
    "    print(\"-----------------------\")"
   ]
  },
  {
   "cell_type": "code",
   "execution_count": 119,
   "id": "3e82d353",
   "metadata": {
    "execution": {
     "iopub.execute_input": "2022-06-10T00:44:56.339392Z",
     "iopub.status.busy": "2022-06-10T00:44:56.339161Z",
     "iopub.status.idle": "2022-06-10T00:44:56.344025Z",
     "shell.execute_reply": "2022-06-10T00:44:56.343355Z",
     "shell.execute_reply.started": "2022-06-10T00:44:56.339368Z"
    }
   },
   "outputs": [],
   "source": []
  },
  {
   "cell_type": "code",
   "execution_count": null,
   "id": "d9845290",
   "metadata": {},
   "outputs": [],
   "source": []
  }
 ],
 "metadata": {
  "kernelspec": {
   "display_name": "Python 3 (qabnn)",
   "language": "python",
   "name": "python3"
  },
  "language_info": {
   "codemirror_mode": {
    "name": "ipython",
    "version": 3
   },
   "file_extension": ".py",
   "mimetype": "text/x-python",
   "name": "python",
   "nbconvert_exporter": "python",
   "pygments_lexer": "ipython3",
   "version": "3.7.11"
  }
 },
 "nbformat": 4,
 "nbformat_minor": 5
}
