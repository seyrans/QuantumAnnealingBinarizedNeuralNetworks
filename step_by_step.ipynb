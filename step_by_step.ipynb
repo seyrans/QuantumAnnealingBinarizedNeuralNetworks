{
 "cells": [
  {
   "cell_type": "code",
   "execution_count": 2,
   "metadata": {
    "execution": {
     "iopub.execute_input": "2022-05-05T04:40:46.633470Z",
     "iopub.status.busy": "2022-05-05T04:40:46.633053Z",
     "iopub.status.idle": "2022-05-05T04:40:46.641082Z",
     "shell.execute_reply": "2022-05-05T04:40:46.640324Z",
     "shell.execute_reply.started": "2022-05-05T04:40:46.633440Z"
    },
    "pycharm": {
     "name": "#%%\n"
    }
   },
   "outputs": [
    {
     "name": "stderr",
     "output_type": "stream",
     "text": [
      "usage: ipykernel_launcher.py [-h] [--batch-size N] [--test-batch-size N]\n",
      "                             [--epochs N] [--lr LR] [--gamma M] [--no-cuda]\n",
      "                             [--dry-run] [--seed S] [--log-interval N]\n",
      "                             [--save-model]\n",
      "ipykernel_launcher.py: error: unrecognized arguments: -f /Users/alipanahi/Library/Jupyter/runtime/kernel-d3031ace-af7f-4322-a2a4-6c139267c881.json\n"
     ]
    },
    {
     "ename": "SystemExit",
     "evalue": "2",
     "output_type": "error",
     "traceback": [
      "An exception has occurred, use %tb to see the full traceback.\n",
      "\u001B[0;31mSystemExit\u001B[0m\u001B[0;31m:\u001B[0m 2\n"
     ]
    }
   ],
   "source": [
    "import torch\n",
    "from prepare_dataset import dataloaders, visualize_dataset\n",
    "from training_logic import train_model\n",
    "import bnn_as_qubo\n",
    "import bnn_as_quso\n",
    "from annealer import run_solver, visualize_result\n",
    "from get_args import args, Solvers"
   ]
  },
  {
   "cell_type": "code",
   "execution_count": 221,
   "metadata": {
    "execution": {
     "iopub.execute_input": "2022-04-18T19:17:40.653315Z",
     "iopub.status.busy": "2022-04-18T19:17:40.651092Z",
     "iopub.status.idle": "2022-04-18T19:17:40.711725Z",
     "shell.execute_reply": "2022-04-18T19:17:40.711143Z",
     "shell.execute_reply.started": "2022-04-18T19:17:40.652695Z"
    },
    "pycharm": {
     "name": "#%%\n"
    }
   },
   "outputs": [],
   "source": [
    "# args.solver = Solvers.SIMULATED\n",
    "# args.solver = Solvers.SIMULATED_EMBEDDED\n",
    "args.solver = Solvers.SIMULATED\n",
    "args.num_reads = 1\n",
    "args.embedding_parameters = {\n",
    "    'verbose': 2,  # 3 for maximum log\n",
    "    'interactive': True,\n",
    "    'chainlength_patience': 0,  # important to get better embedding (smaller chains)\n",
    "    'max_no_improvement': 0\n",
    "}\n",
    "\n",
    "args.num_layers = 2\n",
    "args.hidden_n = 2**2-1\n",
    "# args.avg_pool_kernel_size = 5  # 4-> (7x7), 5 -> (9,9)\n",
    "# args.avg_pool_stride = 3\n",
    "args.downscale = True\n",
    "# args.shape_2d = (28, 28)\n",
    "\n",
    "args.adaptive_avg_pool_shape = 7  # 5-> (5x5), 6-> (6x6)\n",
    "args.use_adaptive = True\n",
    "if args.use_adaptive and args.downscale:\n",
    "    args.shape_2d = (args.adaptive_avg_pool_shape, args.adaptive_avg_pool_shape)  # if not matching adaptive_avg_pool_shape/avg_pool_kernel_size won't work!\n",
    "\n",
    "args.selected_targets = (0, 1)\n",
    "# args.tau_range = [6, 7, 8, 11, 12, 13, 16, 17]  # 5x5\n",
    "# args.tau_range = [1, 2, 5, 6, 9, 10, 12, 13]  # 4x4\n",
    "\n",
    "# args.tau_range = [8, 9, 10, 14, 15, 16, 20]  # 6x6\n",
    "# args.tau_range = [1,2,3,4,5,6,7,8,9,10,11,12,13,14,15]  # 7x7\n",
    "args.tau_range = range(1, 16)"
   ]
  },
  {
   "cell_type": "code",
   "execution_count": 222,
   "metadata": {
    "collapsed": false,
    "execution": {
     "iopub.execute_input": "2022-04-18T19:17:41.683188Z",
     "iopub.status.busy": "2022-04-18T19:17:41.682869Z",
     "iopub.status.idle": "2022-04-18T19:17:41.704731Z",
     "shell.execute_reply": "2022-04-18T19:17:41.704032Z",
     "shell.execute_reply.started": "2022-04-18T19:17:41.683156Z"
    },
    "jupyter": {
     "outputs_hidden": false
    },
    "pycharm": {
     "name": "#%%\n"
    }
   },
   "outputs": [
    {
     "data": {
      "text/plain": [
       "{'batch_size': 60000,\n",
       " 'test_batch_size': 1000,\n",
       " 'epochs': 20,\n",
       " 'lr': 1.0,\n",
       " 'gamma': 0.7,\n",
       " 'no_cuda': False,\n",
       " 'dry_run': False,\n",
       " 'seed': 1,\n",
       " 'log_interval': 1000,\n",
       " 'save_model': False,\n",
       " 'downscale_batch_size': 100000,\n",
       " 'downscale': True,\n",
       " 'avg_pool_kernel_size': 6,\n",
       " 'avg_pool_stride': 6,\n",
       " 'adaptive_avg_pool_shape': 7,\n",
       " 'shape_2d': (7, 7),\n",
       " 'use_adaptive': True,\n",
       " 'selected_targets': (0, 1),\n",
       " 'bnn_as_quso': False,\n",
       " 'bnn_as_qubo_dimod': False,\n",
       " 'solver': <Solvers.SIMULATED: 2>,\n",
       " 'num_reads': 1,\n",
       " 'num_anneals': 1000,\n",
       " 'gurobi_threads': 16,\n",
       " 'visualize_dataset': True,\n",
       " 'visualize_result_': True,\n",
       " 'use_binary_net2': False,\n",
       " 'dataset_spin_form': True,\n",
       " 'optimizer': 'adadelta',\n",
       " 'use_scheduler': False,\n",
       " 'remove_contradicting': True,\n",
       " 'sample_output': False,\n",
       " 'shuffle': False,\n",
       " 'solution_as_tensors': True,\n",
       " 'LAMBDA': {'hard_constraints': 1, 'tau': 1, 'epsilon': 1},\n",
       " 'epsilon': 6,\n",
       " 'num_classes': 2,\n",
       " 'num_layers': 2,\n",
       " 'hidden_n': 3,\n",
       " 'flatten_dataset': True,\n",
       " 'pad_flattened_dataset': True,\n",
       " 'embedding_parameters': {'verbose': 2,\n",
       "  'interactive': True,\n",
       "  'chainlength_patience': 0,\n",
       "  'max_no_improvement': 0},\n",
       " 'kerberos_max_iter': 100,\n",
       " 'kerberos_convergence': 3,\n",
       " 'tau_range': range(1, 16),\n",
       " 'chain_strength': None}"
      ]
     },
     "execution_count": 222,
     "metadata": {},
     "output_type": "execute_result"
    }
   ],
   "source": [
    "vars(args)"
   ]
  },
  {
   "cell_type": "code",
   "execution_count": 223,
   "metadata": {
    "collapsed": false,
    "execution": {
     "iopub.execute_input": "2022-04-18T19:17:43.316758Z",
     "iopub.status.busy": "2022-04-18T19:17:43.316449Z",
     "iopub.status.idle": "2022-04-18T19:17:48.819999Z",
     "shell.execute_reply": "2022-04-18T19:17:48.819562Z",
     "shell.execute_reply.started": "2022-04-18T19:17:43.316729Z"
    },
    "jupyter": {
     "outputs_hidden": false
    },
    "pycharm": {
     "name": "#%%\n"
    }
   },
   "outputs": [
    {
     "name": "stdout",
     "output_type": "stream",
     "text": [
      "Removing contradicting images from Training set\n",
      "Initial number of images:  12665\n",
      "Number of unique images: 3246\n",
      "Number of unique num_1s:  367\n",
      "Number of unique num_2s:  2868\n",
      "Number of unique contradicting labels (both num_1 and num_2):  11\n",
      "Remaining non-contradicting unique images:  3235\n",
      "\n",
      "Removing contradicting images from Test set\n",
      "Initial number of images:  2115\n",
      "Number of unique images: 864\n",
      "Number of unique num_1s:  132\n",
      "Number of unique num_2s:  732\n",
      "Number of unique contradicting labels (both num_1 and num_2):  0\n",
      "Remaining non-contradicting unique images:  864\n",
      "\n",
      "Training set shape: [63]\n"
     ]
    },
    {
     "data": {
      "image/png": "[encoded data removed]",
      "text/plain": [
       "<Figure size 432x288 with 1 Axes>"
      ]
     },
     "metadata": {
      "needs_background": "light"
     },
     "output_type": "display_data"
    }
   ],
   "source": [
    "train_dataloader, test_dataloader = dataloaders(args)"
   ]
  },
  {
   "cell_type": "code",
   "execution_count": 224,
   "metadata": {
    "execution": {
     "iopub.execute_input": "2022-04-18T19:17:48.822039Z",
     "iopub.status.busy": "2022-04-18T19:17:48.821633Z",
     "iopub.status.idle": "2022-04-18T19:17:49.780164Z",
     "shell.execute_reply": "2022-04-18T19:17:49.779548Z",
     "shell.execute_reply.started": "2022-04-18T19:17:48.822018Z"
    },
    "pycharm": {
     "name": "#%%\n"
    }
   },
   "outputs": [
    {
     "name": "stdout",
     "output_type": "stream",
     "text": [
      "Total Number of parameters of Model: 192\n",
      "Test set: Average loss: 18.7500, Accuracy: 702/864 (81.25%)\n",
      "Test set: Average loss: 17.1296, Accuracy: 716/864 (82.87%)\n",
      "Test set: Average loss: 15.5093, Accuracy: 730/864 (84.49%)\n",
      "Test set: Average loss: 13.8889, Accuracy: 744/864 (86.11%)\n",
      "Test set: Average loss: 8.7963, Accuracy: 788/864 (91.20%)\n",
      "Test set: Average loss: 8.7963, Accuracy: 788/864 (91.20%)\n",
      "Test set: Average loss: 7.5231, Accuracy: 799/864 (92.48%)\n",
      "Test set: Average loss: 8.6806, Accuracy: 789/864 (91.32%)\n",
      "Test set: Average loss: 7.2917, Accuracy: 801/864 (92.71%)\n",
      "Test set: Average loss: 7.9861, Accuracy: 795/864 (92.01%)\n",
      "Test set: Average loss: 6.4815, Accuracy: 808/864 (93.52%)\n",
      "Test set: Average loss: 6.5972, Accuracy: 807/864 (93.40%)\n",
      "Test set: Average loss: 3.1250, Accuracy: 837/864 (96.88%)\n",
      "Test set: Average loss: 3.1250, Accuracy: 837/864 (96.88%)\n",
      "Test set: Average loss: 3.3565, Accuracy: 835/864 (96.64%)\n",
      "Test set: Average loss: 3.1250, Accuracy: 837/864 (96.88%)\n",
      "Test set: Average loss: 3.1250, Accuracy: 837/864 (96.88%)\n",
      "Test set: Average loss: 2.3148, Accuracy: 844/864 (97.69%)\n",
      "Test set: Average loss: 3.1250, Accuracy: 837/864 (96.88%)\n",
      "Test set: Average loss: 2.5463, Accuracy: 842/864 (97.45%)\n"
     ]
    },
    {
     "data": {
      "text/plain": [
       "BinaryNet(\n",
       "  (fc_list): ModuleList(\n",
       "    (0): BinaryLinear(in_features=63, out_features=3, bias=False)\n",
       "    (1): BinaryLinear(in_features=3, out_features=1, bias=False)\n",
       "  )\n",
       "  (dropout): Dropout(p=0.2, inplace=False)\n",
       ")"
      ]
     },
     "execution_count": 224,
     "metadata": {},
     "output_type": "execute_result"
    }
   ],
   "source": [
    "model = train_model(train_dataloader, test_dataloader, args)\n",
    "model"
   ]
  },
  {
   "cell_type": "code",
   "execution_count": 225,
   "metadata": {
    "execution": {
     "iopub.execute_input": "2022-04-18T19:17:49.781639Z",
     "iopub.status.busy": "2022-04-18T19:17:49.781274Z",
     "iopub.status.idle": "2022-04-18T19:17:49.820181Z",
     "shell.execute_reply": "2022-04-18T19:17:49.819579Z",
     "shell.execute_reply.started": "2022-04-18T19:17:49.781620Z"
    },
    "pycharm": {
     "name": "#%%\n"
    }
   },
   "outputs": [
    {
     "name": "stdout",
     "output_type": "stream",
     "text": [
      "Batch size: 3235\n",
      "tensor([0., 1., 1.,  ..., 0., 0., 0.], grad_fn=<SqueezeBackward0>)\n",
      "tensor([0., 1., 1.,  ..., 0., 0., 0.])\n",
      "Accuracy tensor(98.7635, grad_fn=<MulBackward0>)\n"
     ]
    }
   ],
   "source": [
    "# if args.sample_output:\n",
    "samples = next(iter(train_dataloader))\n",
    "print('Batch size:', len(samples[0]))\n",
    "sample_pred = model(samples[0])\n",
    "sample_target = samples[1]\n",
    "print(sample_pred)\n",
    "print(sample_target)\n",
    "print('Accuracy', (1-(sample_pred - sample_target).sum()/len(sample_pred))*100)"
   ]
  },
  {
   "cell_type": "code",
   "execution_count": 226,
   "metadata": {
    "execution": {
     "iopub.execute_input": "2022-04-18T19:17:49.822088Z",
     "iopub.status.busy": "2022-04-18T19:17:49.821887Z",
     "iopub.status.idle": "2022-04-18T19:17:49.827429Z",
     "shell.execute_reply": "2022-04-18T19:17:49.826722Z",
     "shell.execute_reply.started": "2022-04-18T19:17:49.822064Z"
    },
    "pycharm": {
     "name": "#%%\n"
    }
   },
   "outputs": [],
   "source": [
    "for image_index in range(len(train_dataloader)):\n",
    "    sample_input_item = train_dataloader.dataset[image_index]\n",
    "    sample_input_spin = sample_input_item[0]\n",
    "    sample_input_target = sample_input_item[1]\n",
    "    shape = sample_input_spin.shape[-2:]\n",
    "    # if the model already predict the sample with an incorrect class, let's skip.\n",
    "    if model(sample_input_spin) != sample_input_target:\n",
    "        continue\n",
    "    break"
   ]
  },
  {
   "cell_type": "code",
   "execution_count": 227,
   "metadata": {
    "execution": {
     "iopub.execute_input": "2022-04-18T19:17:49.829185Z",
     "iopub.status.busy": "2022-04-18T19:17:49.828617Z",
     "iopub.status.idle": "2022-04-18T19:17:49.911145Z",
     "shell.execute_reply": "2022-04-18T19:17:49.910527Z",
     "shell.execute_reply.started": "2022-04-18T19:17:49.829122Z"
    },
    "pycharm": {
     "name": "#%%\n"
    }
   },
   "outputs": [],
   "source": [
    "H_dimod = None\n",
    "H, qubo_vars = bnn_as_qubo.setup_optim_model(sample_input_spin, sample_input_target,\n",
    "                                      model, args)"
   ]
  },
  {
   "cell_type": "code",
   "execution_count": 228,
   "metadata": {
    "execution": {
     "iopub.execute_input": "2022-04-18T19:17:49.912299Z",
     "iopub.status.busy": "2022-04-18T19:17:49.911976Z",
     "iopub.status.idle": "2022-04-18T19:17:49.916751Z",
     "shell.execute_reply": "2022-04-18T19:17:49.916234Z",
     "shell.execute_reply.started": "2022-04-18T19:17:49.912275Z"
    },
    "pycharm": {
     "name": "#%%\n"
    }
   },
   "outputs": [],
   "source": [
    "from neal import SimulatedAnnealingSampler\n",
    "import matplotlib.pyplot as plt\n",
    "from binarized_neural_net import *\n",
    "import dwave.inspector\n",
    "from get_args import Solvers\n",
    "from utils import to_spin, to_boolean\n",
    "from minorminer import find_embedding\n",
    "from dwave.system.composites import EmbeddingComposite, FixedEmbeddingComposite\n",
    "import torch\n",
    "from bnn_as_qubo_grb import set_up_grb_model_qubo\n",
    "from dimod import BinaryQuadraticModel, Vartype\n",
    "from dwave.system import DWaveSampler\n",
    "import networkx as nx\n",
    "import dimod\n",
    "from hybrid.reference.kerberos import KerberosSampler\n"
   ]
  },
  {
   "cell_type": "code",
   "execution_count": 229,
   "metadata": {
    "execution": {
     "iopub.execute_input": "2022-04-18T19:17:49.917922Z",
     "iopub.status.busy": "2022-04-18T19:17:49.917715Z",
     "iopub.status.idle": "2022-04-18T19:17:49.963112Z",
     "shell.execute_reply": "2022-04-18T19:17:49.962518Z",
     "shell.execute_reply.started": "2022-04-18T19:17:49.917900Z"
    },
    "pycharm": {
     "name": "#%%\n"
    }
   },
   "outputs": [
    {
     "name": "stdout",
     "output_type": "stream",
     "text": [
      "# chain_strength: None\n",
      "#####################\n",
      "Epsilon\n",
      "6\n",
      "No. of Variables\n",
      "85\n",
      "No. of Quadratic Terms\n",
      "838\n",
      "Top 20 Max Degrees\n",
      "[23, 23, 23, 23, 23, 23, 23, 23, 23, 23, 23, 23, 23, 23, 23, 23, 23, 23, 23, 23]\n",
      "Solver\n",
      "Solvers.SIMULATED\n",
      "Image shape\n",
      "(7, 7)\n",
      "No. of Neural Networks layer\n",
      "2\n",
      "Tau range\n",
      "range(1, 16)\n",
      "solution energy\n",
      "-1873.0\n",
      "Constraints satisfied?\n",
      "False\n",
      "#####################\n",
      "H value: 2.0\n"
     ]
    }
   ],
   "source": [
    "\n",
    "def print_degrees(dwave_qubo):\n",
    "    G = nx.Graph()\n",
    "    G.add_weighted_edges_from([(u[0], u[1], v) for u, v in dwave_qubo.items()])\n",
    "    degree_dict = dict(G.degree(G.nodes()))\n",
    "    degrees = sorted(degree_dict.values(), reverse=True)\n",
    "    print('Top 20 Max Degrees')\n",
    "    print(degrees[:20])\n",
    "    return degrees\n",
    "\n",
    "def exec_solver(H, args, H_dimod=None):\n",
    "    qubo_emb = None\n",
    "    print('# chain_strength:', args.chain_strength)\n",
    "    solver = args.solver\n",
    "    # Get the QUBO form of the H\n",
    "    qv_qubo = H.to_qubo()\n",
    "\n",
    "    # D-Wave accept QUBOs in a different format than qubovert's format\n",
    "    # to get the qubo in this form, use the .Q property\n",
    "    dwave_qubo = qv_qubo.Q\n",
    "    # print(dwave_qubo)\n",
    "    print('#####################')\n",
    "    print('Epsilon')\n",
    "    print(args.epsilon)\n",
    "    bqm = BinaryQuadraticModel(Vartype.BINARY).from_qubo(dwave_qubo, H.offset)\n",
    "    print('No. of Variables')\n",
    "    print(len(H.variables))\n",
    "    print('No. of Quadratic Terms')\n",
    "    print(qv_qubo.num_terms - qv_qubo.num_binary_variables)\n",
    "    print_degrees(dwave_qubo)\n",
    "    print('Solver')\n",
    "    print(solver)\n",
    "    if solver == Solvers.SIMULATED:\n",
    "        if H_dimod:\n",
    "            bqm = H_dimod\n",
    "        sim_sampler = SimulatedAnnealingSampler()\n",
    "        res = sim_sampler.sample_qubo(bqm.to_qubo()[0], num_reads=args.num_reads)\n",
    "        print('Image shape')\n",
    "        print(args.shape_2d)\n",
    "        print('No. of Neural Networks layer')\n",
    "        print(args.num_layers)\n",
    "        print('Tau range')\n",
    "        print(args.tau_range)\n",
    "        print('solution energy')\n",
    "        print(res.first.energy)\n",
    "#         print('QUBO')\n",
    "#         print(dwave_qubo)\n",
    "#         print('Solution')\n",
    "#         print(res.first.sample)\n",
    "        qubo_solution = res.first.sample\n",
    "        if H_dimod:\n",
    "            H_solution = qubo_solution\n",
    "        else:\n",
    "            H_solution = H.convert_solution(qubo_solution)\n",
    "        print(\"Constraints satisfied?\")\n",
    "        print(H.is_solution_valid(H_solution))\n",
    "        print('#####################')\n",
    "    elif solver == Solvers.SIMULATED_EMBEDDED:\n",
    "        # bqm.normalize(1, 4)\n",
    "        d_sampler = DWaveSampler()\n",
    "        _, edgelist, adjacency = d_sampler.structure\n",
    "        print('>>> find embedding')\n",
    "        embedding = find_embedding(dwave_qubo, edgelist, random_seed=1, **args.embedding_parameters)\n",
    "        bqm_emb = dwave.embedding.embed_bqm(bqm, embedding, adjacency, chain_strength=args.chain_strength)\n",
    "        # bqm_emb.normalize(1, 4)\n",
    "        print('# embedded variables', bqm_emb.num_variables)\n",
    "        qubo_emb = bqm_emb.to_qubo()[0]\n",
    "        print('# emb quad term:', bqm_emb.num_interactions)\n",
    "        print_degrees(qubo_emb)\n",
    "        sim_sampler = SimulatedAnnealingSampler()\n",
    "        # res = sim_sampler.sample_qubo(qubo_emb, num_reads=args.num_reads)\n",
    "        res = sim_sampler.sample(bqm_emb, num_reads=args.num_reads)\n",
    "        res = dwave.embedding.unembed_sampleset(res, embedding, bqm)\n",
    "        qubo_solution = res.first.sample\n",
    "        # embedding_rev = {v_: k for k, v in embedding.items() for v_ in v}\n",
    "        # qubo_solution = {embedding_rev[k]: v for k, v in qubo_solution.items()}\n",
    "        H_solution = H.convert_solution(qubo_solution)\n",
    "    elif solver == Solvers.DWAVE:\n",
    "        sampler = DWaveSampler()\n",
    "        _, edgelist, adjacency = sampler.structure\n",
    "        print('>>> find embedding')\n",
    "        # dwave_qubo_bqm.normalize(1, 4)\n",
    "        dwave_qubo_bqm_qubo = bqm.to_qubo()\n",
    "        embedding = find_embedding(dwave_qubo_bqm_qubo[0], edgelist, random_seed=1, **args.embedding_parameters)\n",
    "        sampler = FixedEmbeddingComposite(sampler, embedding)\n",
    "        res = sampler.sample_qubo(dwave_qubo_bqm_qubo[0], num_reads=args.num_reads, annealing_time=50)\n",
    "        dwave.inspector.show(res)\n",
    "        qubo_solution = res.first.sample\n",
    "\n",
    "        # convert the qubo solution back to the solution to the H\n",
    "        H_solution = H.convert_solution(qubo_solution)\n",
    "    else:\n",
    "        raise NotImplemented()\n",
    "\n",
    "    # print(\"Variable assignment:\", H_solution)\n",
    "    if not H_dimod:\n",
    "        print(\"H value:\", H.value(H_solution))\n",
    "    return H_solution, res, qubo_emb\n",
    "\n",
    "H_solution, res, qubo_emb = exec_solver(H, args, H_dimod)"
   ]
  },
  {
   "cell_type": "code",
   "execution_count": 230,
   "metadata": {
    "execution": {
     "iopub.execute_input": "2022-04-18T19:17:49.964310Z",
     "iopub.status.busy": "2022-04-18T19:17:49.964045Z",
     "iopub.status.idle": "2022-04-18T19:17:49.969886Z",
     "shell.execute_reply": "2022-04-18T19:17:49.969029Z",
     "shell.execute_reply.started": "2022-04-18T19:17:49.964284Z"
    },
    "pycharm": {
     "name": "#%%\n"
    }
   },
   "outputs": [
    {
     "data": {
      "text/plain": [
       "[]"
      ]
     },
     "execution_count": 230,
     "metadata": {},
     "output_type": "execute_result"
    }
   ],
   "source": [
    "import numpy as np\n",
    "invalidValues, validValues = [], []\n",
    "for sample in res:\n",
    "    H_solution = H.convert_solution(sample)\n",
    "    values = invalidValues\n",
    "    if H.is_solution_valid(H_solution):\n",
    "        values = validValues\n",
    "    values.append(H.value(H_solution))\n",
    "validValues"
   ]
  },
  {
   "cell_type": "code",
   "execution_count": 231,
   "metadata": {
    "execution": {
     "iopub.execute_input": "2022-04-18T19:17:49.972956Z",
     "iopub.status.busy": "2022-04-18T19:17:49.972706Z",
     "iopub.status.idle": "2022-04-18T19:17:49.976392Z",
     "shell.execute_reply": "2022-04-18T19:17:49.975767Z",
     "shell.execute_reply.started": "2022-04-18T19:17:49.972932Z"
    },
    "pycharm": {
     "name": "#%%\n"
    }
   },
   "outputs": [],
   "source": [
    "import seaborn as sns\n",
    "import matplotlib as mpl\n",
    "import matplotlib.pyplot as plt"
   ]
  },
  {
   "cell_type": "code",
   "execution_count": 216,
   "metadata": {
    "execution": {
     "iopub.execute_input": "2022-04-15T22:01:55.164672Z",
     "iopub.status.busy": "2022-04-15T22:01:55.164458Z",
     "iopub.status.idle": "2022-04-15T22:01:55.324738Z",
     "shell.execute_reply": "2022-04-15T22:01:55.323998Z",
     "shell.execute_reply.started": "2022-04-15T22:01:55.164650Z"
    },
    "pycharm": {
     "name": "#%%\n"
    }
   },
   "outputs": [
    {
     "data": {
      "image/png": "[encoded data removed]",
      "text/plain": [
       "<Figure size 432x288 with 1 Axes>"
      ]
     },
     "metadata": {
      "needs_background": "light"
     },
     "output_type": "display_data"
    }
   ],
   "source": [
    "sns.histplot({'Adversarial': validValues, 'Unsatisfied': invalidValues}, color=['r','b'], alpha=0.5) \\\n",
    "  .set(title=f'{args.solver} Shape:{args.shape_2d} - shots: {args.num_reads}');"
   ]
  },
  {
   "cell_type": "code",
   "execution_count": 217,
   "metadata": {
    "execution": {
     "iopub.execute_input": "2022-04-15T22:01:55.326348Z",
     "iopub.status.busy": "2022-04-15T22:01:55.325971Z",
     "iopub.status.idle": "2022-04-15T22:01:55.330680Z",
     "shell.execute_reply": "2022-04-15T22:01:55.329952Z",
     "shell.execute_reply.started": "2022-04-15T22:01:55.326295Z"
    },
    "pycharm": {
     "name": "#%%\n"
    }
   },
   "outputs": [],
   "source": [
    "# visualize_result(model, sample_input_spin, sample_input_target, H_solution, shape, args)"
   ]
  },
  {
   "cell_type": "code",
   "execution_count": 218,
   "metadata": {
    "execution": {
     "iopub.execute_input": "2022-04-15T22:01:55.332410Z",
     "iopub.status.busy": "2022-04-15T22:01:55.332164Z",
     "iopub.status.idle": "2022-04-15T22:01:55.335920Z",
     "shell.execute_reply": "2022-04-15T22:01:55.335030Z",
     "shell.execute_reply.started": "2022-04-15T22:01:55.332391Z"
    },
    "pycharm": {
     "name": "#%%\n"
    }
   },
   "outputs": [],
   "source": [
    "import networkx as nx"
   ]
  },
  {
   "cell_type": "code",
   "execution_count": 219,
   "metadata": {
    "execution": {
     "iopub.execute_input": "2022-04-15T22:01:55.337698Z",
     "iopub.status.busy": "2022-04-15T22:01:55.337321Z",
     "iopub.status.idle": "2022-04-15T22:01:55.623400Z",
     "shell.execute_reply": "2022-04-15T22:01:55.622604Z",
     "shell.execute_reply.started": "2022-04-15T22:01:55.337670Z"
    },
    "pycharm": {
     "name": "#%%\n"
    }
   },
   "outputs": [
    {
     "data": {
      "image/png": "[encoded data removed]",
      "text/plain": [
       "<Figure size 432x288 with 1 Axes>"
      ]
     },
     "metadata": {},
     "output_type": "display_data"
    }
   ],
   "source": [
    "edges = [k for k in H.to_qubo().Q.keys() if k[0] != k[1]]\n",
    "G = nx.Graph()\n",
    "G.add_edges_from(edges)\n",
    "nx.draw(G, with_labels=False, node_size= 50, width=0.2)"
   ]
  },
  {
   "cell_type": "code",
   "execution_count": 220,
   "metadata": {
    "execution": {
     "iopub.execute_input": "2022-04-15T22:01:55.625108Z",
     "iopub.status.busy": "2022-04-15T22:01:55.624762Z",
     "iopub.status.idle": "2022-04-15T22:01:55.644079Z",
     "shell.execute_reply": "2022-04-15T22:01:55.643056Z",
     "shell.execute_reply.started": "2022-04-15T22:01:55.625071Z"
    },
    "pycharm": {
     "name": "#%%\n"
    }
   },
   "outputs": [
    {
     "ename": "AttributeError",
     "evalue": "'NoneType' object has no attribute 'keys'",
     "output_type": "error",
     "traceback": [
      "\u001B[0;31m---------------------------------------------------------------------------\u001B[0m",
      "\u001B[0;31mAttributeError\u001B[0m                            Traceback (most recent call last)",
      "\u001B[0;32m/var/folders/bs/f2wvl_f50vj5p1zy3dmnls4c0000gr/T/ipykernel_98605/2293813880.py\u001B[0m in \u001B[0;36m<module>\u001B[0;34m\u001B[0m\n\u001B[0;32m----> 1\u001B[0;31m \u001B[0medges\u001B[0m \u001B[0;34m=\u001B[0m \u001B[0;34m[\u001B[0m\u001B[0mk\u001B[0m \u001B[0;32mfor\u001B[0m \u001B[0mk\u001B[0m \u001B[0;32min\u001B[0m \u001B[0mqubo_emb\u001B[0m\u001B[0;34m.\u001B[0m\u001B[0mkeys\u001B[0m\u001B[0;34m(\u001B[0m\u001B[0;34m)\u001B[0m \u001B[0;32mif\u001B[0m \u001B[0mk\u001B[0m\u001B[0;34m[\u001B[0m\u001B[0;36m0\u001B[0m\u001B[0;34m]\u001B[0m \u001B[0;34m!=\u001B[0m \u001B[0mk\u001B[0m\u001B[0;34m[\u001B[0m\u001B[0;36m1\u001B[0m\u001B[0;34m]\u001B[0m\u001B[0;34m]\u001B[0m\u001B[0;34m\u001B[0m\u001B[0;34m\u001B[0m\u001B[0m\n\u001B[0m\u001B[1;32m      2\u001B[0m \u001B[0mG\u001B[0m \u001B[0;34m=\u001B[0m \u001B[0mnx\u001B[0m\u001B[0;34m.\u001B[0m\u001B[0mGraph\u001B[0m\u001B[0;34m(\u001B[0m\u001B[0;34m)\u001B[0m\u001B[0;34m\u001B[0m\u001B[0;34m\u001B[0m\u001B[0m\n\u001B[1;32m      3\u001B[0m \u001B[0mG\u001B[0m\u001B[0;34m.\u001B[0m\u001B[0madd_edges_from\u001B[0m\u001B[0;34m(\u001B[0m\u001B[0medges\u001B[0m\u001B[0;34m)\u001B[0m\u001B[0;34m\u001B[0m\u001B[0;34m\u001B[0m\u001B[0m\n\u001B[1;32m      4\u001B[0m \u001B[0mnx\u001B[0m\u001B[0;34m.\u001B[0m\u001B[0mdraw\u001B[0m\u001B[0;34m(\u001B[0m\u001B[0mG\u001B[0m\u001B[0;34m,\u001B[0m \u001B[0mwith_labels\u001B[0m\u001B[0;34m=\u001B[0m\u001B[0;32mFalse\u001B[0m\u001B[0;34m,\u001B[0m \u001B[0mnode_size\u001B[0m\u001B[0;34m=\u001B[0m \u001B[0;36m50\u001B[0m\u001B[0;34m,\u001B[0m \u001B[0mwidth\u001B[0m\u001B[0;34m=\u001B[0m\u001B[0;36m0.2\u001B[0m\u001B[0;34m,\u001B[0m \u001B[0mpos\u001B[0m\u001B[0;34m=\u001B[0m\u001B[0mnx\u001B[0m\u001B[0;34m.\u001B[0m\u001B[0mspring_layout\u001B[0m\u001B[0;34m(\u001B[0m\u001B[0mG\u001B[0m\u001B[0;34m,\u001B[0m \u001B[0miterations\u001B[0m\u001B[0;34m=\u001B[0m\u001B[0;36m1000\u001B[0m\u001B[0;34m)\u001B[0m\u001B[0;34m)\u001B[0m\u001B[0;34m\u001B[0m\u001B[0;34m\u001B[0m\u001B[0m\n",
      "\u001B[0;31mAttributeError\u001B[0m: 'NoneType' object has no attribute 'keys'"
     ]
    }
   ],
   "source": [
    "edges = [k for k in qubo_emb.keys() if k[0] != k[1]]\n",
    "G = nx.Graph()\n",
    "G.add_edges_from(edges)\n",
    "nx.draw(G, with_labels=False, node_size= 50, width=0.2, pos=nx.spring_layout(G, iterations=1000))"
   ]
  },
  {
   "cell_type": "code",
   "execution_count": null,
   "metadata": {
    "pycharm": {
     "name": "#%%\n"
    }
   },
   "outputs": [],
   "source": []
  },
  {
   "cell_type": "code",
   "execution_count": null,
   "metadata": {
    "pycharm": {
     "name": "#%%\n"
    }
   },
   "outputs": [],
   "source": []
  },
  {
   "cell_type": "code",
   "execution_count": null,
   "metadata": {
    "pycharm": {
     "name": "#%%\n"
    }
   },
   "outputs": [],
   "source": []
  },
  {
   "cell_type": "code",
   "execution_count": null,
   "metadata": {
    "pycharm": {
     "name": "#%%\n"
    }
   },
   "outputs": [],
   "source": []
  },
  {
   "cell_type": "code",
   "execution_count": null,
   "metadata": {
    "pycharm": {
     "name": "#%%\n"
    }
   },
   "outputs": [],
   "source": []
  },
  {
   "cell_type": "code",
   "execution_count": null,
   "metadata": {
    "pycharm": {
     "name": "#%%\n"
    }
   },
   "outputs": [],
   "source": []
  },
  {
   "cell_type": "code",
   "execution_count": null,
   "metadata": {
    "pycharm": {
     "name": "#%%\n"
    }
   },
   "outputs": [],
   "source": []
  },
  {
   "cell_type": "code",
   "execution_count": null,
   "metadata": {
    "pycharm": {
     "name": "#%%\n"
    }
   },
   "outputs": [],
   "source": []
  },
  {
   "cell_type": "code",
   "execution_count": null,
   "metadata": {
    "pycharm": {
     "name": "#%%\n"
    }
   },
   "outputs": [],
   "source": []
  },
  {
   "cell_type": "code",
   "execution_count": null,
   "metadata": {
    "pycharm": {
     "name": "#%%\n"
    }
   },
   "outputs": [],
   "source": []
  },
  {
   "cell_type": "code",
   "execution_count": null,
   "metadata": {
    "pycharm": {
     "name": "#%%\n"
    }
   },
   "outputs": [],
   "source": []
  },
  {
   "cell_type": "code",
   "execution_count": null,
   "metadata": {
    "pycharm": {
     "name": "#%%\n"
    }
   },
   "outputs": [],
   "source": []
  },
  {
   "cell_type": "code",
   "execution_count": null,
   "metadata": {
    "pycharm": {
     "name": "#%%\n"
    }
   },
   "outputs": [],
   "source": []
  }
 ],
 "metadata": {
  "kernelspec": {
   "display_name": "Python 3 (qabnn)",
   "language": "python",
   "name": "python3"
  },
  "language_info": {
   "codemirror_mode": {
    "name": "ipython",
    "version": 3
   },
   "file_extension": ".py",
   "mimetype": "text/x-python",
   "name": "python",
   "nbconvert_exporter": "python",
   "pygments_lexer": "ipython3",
   "version": "3.7.11"
  }
 },
 "nbformat": 4,
 "nbformat_minor": 4
}